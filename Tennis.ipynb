{
 "cells": [
  {
   "cell_type": "markdown",
   "metadata": {},
   "source": [
    "# Collaboration and Competition\n",
    "\n",
    "---\n",
    "\n",
    "In this notebook, you will learn how to use the Unity ML-Agents environment for the third project of the [Deep Reinforcement Learning Nanodegree](https://www.udacity.com/course/deep-reinforcement-learning-nanodegree--nd893) program.\n",
    "\n",
    "### 1. Start the Environment\n",
    "\n",
    "We begin by importing the necessary packages.  If the code cell below returns an error, please revisit the project instructions to double-check that you have installed [Unity ML-Agents](https://github.com/Unity-Technologies/ml-agents/blob/master/docs/Installation.md) and [NumPy](http://www.numpy.org/)."
   ]
  },
  {
   "cell_type": "code",
   "execution_count": 1,
   "metadata": {},
   "outputs": [],
   "source": [
    "from unityagents import UnityEnvironment\n",
    "import numpy as np"
   ]
  },
  {
   "cell_type": "markdown",
   "metadata": {},
   "source": [
    "Next, we will start the environment!  **_Before running the code cell below_**, change the `file_name` parameter to match the location of the Unity environment that you downloaded.\n",
    "\n",
    "- **Mac**: `\"path/to/Tennis.app\"`\n",
    "- **Windows** (x86): `\"path/to/Tennis_Windows_x86/Tennis.exe\"`\n",
    "- **Windows** (x86_64): `\"path/to/Tennis_Windows_x86_64/Tennis.exe\"`\n",
    "- **Linux** (x86): `\"path/to/Tennis_Linux/Tennis.x86\"`\n",
    "- **Linux** (x86_64): `\"path/to/Tennis_Linux/Tennis.x86_64\"`\n",
    "- **Linux** (x86, headless): `\"path/to/Tennis_Linux_NoVis/Tennis.x86\"`\n",
    "- **Linux** (x86_64, headless): `\"path/to/Tennis_Linux_NoVis/Tennis.x86_64\"`\n",
    "\n",
    "For instance, if you are using a Mac, then you downloaded `Tennis.app`.  If this file is in the same folder as the notebook, then the line below should appear as follows:\n",
    "```\n",
    "env = UnityEnvironment(file_name=\"Tennis.app\")\n",
    "```"
   ]
  },
  {
   "cell_type": "code",
   "execution_count": 2,
   "metadata": {},
   "outputs": [
    {
     "name": "stderr",
     "output_type": "stream",
     "text": [
      "INFO:unityagents:\n",
      "'Academy' started successfully!\n",
      "Unity Academy name: Academy\n",
      "        Number of Brains: 1\n",
      "        Number of External Brains : 1\n",
      "        Lesson number : 0\n",
      "        Reset Parameters :\n",
      "\t\t\n",
      "Unity brain name: TennisBrain\n",
      "        Number of Visual Observations (per agent): 0\n",
      "        Vector Observation space type: continuous\n",
      "        Vector Observation space size (per agent): 8\n",
      "        Number of stacked Vector Observation: 3\n",
      "        Vector Action space type: continuous\n",
      "        Vector Action space size (per agent): 2\n",
      "        Vector Action descriptions: , \n"
     ]
    }
   ],
   "source": [
    "env = UnityEnvironment(file_name=\"./Tennis_Windows_x86_64/Tennis.exe\")"
   ]
  },
  {
   "cell_type": "markdown",
   "metadata": {},
   "source": [
    "Environments contain **_brains_** which are responsible for deciding the actions of their associated agents. Here we check for the first brain available, and set it as the default brain we will be controlling from Python."
   ]
  },
  {
   "cell_type": "code",
   "execution_count": 3,
   "metadata": {},
   "outputs": [],
   "source": [
    "# get the default brain\n",
    "brain_name = env.brain_names[0]\n",
    "brain = env.brains[brain_name]"
   ]
  },
  {
   "cell_type": "markdown",
   "metadata": {},
   "source": [
    "### 2. Examine the State and Action Spaces\n",
    "\n",
    "In this environment, two agents control rackets to bounce a ball over a net. If an agent hits the ball over the net, it receives a reward of +0.1.  If an agent lets a ball hit the ground or hits the ball out of bounds, it receives a reward of -0.01.  Thus, the goal of each agent is to keep the ball in play.\n",
    "\n",
    "The observation space consists of 8 variables corresponding to the position and velocity of the ball and racket. Two continuous actions are available, corresponding to movement toward (or away from) the net, and jumping. \n",
    "\n",
    "Run the code cell below to print some information about the environment."
   ]
  },
  {
   "cell_type": "code",
   "execution_count": 4,
   "metadata": {},
   "outputs": [
    {
     "name": "stdout",
     "output_type": "stream",
     "text": [
      "Number of agents: 2\n",
      "Size of each action: 2\n",
      "There are 2 agents. Each observes a state with length: 24\n",
      "The state for the first agent looks like: [ 0.          0.          0.          0.          0.          0.\n",
      "  0.          0.          0.          0.          0.          0.\n",
      "  0.          0.          0.          0.         -6.65278625 -1.5\n",
      " -0.          0.          6.83172083  6.         -0.          0.        ]\n"
     ]
    }
   ],
   "source": [
    "# reset the environment\n",
    "env_info = env.reset(train_mode=True)[brain_name]\n",
    "\n",
    "# number of agents \n",
    "num_agents = len(env_info.agents)\n",
    "print('Number of agents:', num_agents)\n",
    "\n",
    "# size of each action\n",
    "action_size = brain.vector_action_space_size\n",
    "print('Size of each action:', action_size)\n",
    "\n",
    "# examine the state space \n",
    "states = env_info.vector_observations\n",
    "state_size = states.shape[1]\n",
    "print('There are {} agents. Each observes a state with length: {}'.format(states.shape[0], state_size))\n",
    "print('The state for the first agent looks like:', states[0])"
   ]
  },
  {
   "cell_type": "markdown",
   "metadata": {},
   "source": [
    "### 3. Take Random Actions in the Environment\n",
    "\n",
    "In the next code cell, you will learn how to use the Python API to control the agents and receive feedback from the environment.\n",
    "\n",
    "Once this cell is executed, you will watch the agents' performance, if they select actions at random with each time step.  A window should pop up that allows you to observe the agents.\n",
    "\n",
    "Of course, as part of the project, you'll have to change the code so that the agents are able to use their experiences to gradually choose better actions when interacting with the environment!"
   ]
  },
  {
   "cell_type": "code",
   "execution_count": null,
   "metadata": {},
   "outputs": [],
   "source": [
    "for i in range(1, 6):                                      # play game for 5 episodes\n",
    "    env_info = env.reset(train_mode=False)[brain_name]     # reset the environment    \n",
    "    states = env_info.vector_observations                  # get the current state (for each agent)\n",
    "    scores = np.zeros(num_agents)                          # initialize the score (for each agent)\n",
    "    while True:\n",
    "        actions = np.random.randn(num_agents, action_size) # select an action (for each agent)\n",
    "        actions = np.clip(actions, -1, 1)                  # all actions between -1 and 1\n",
    "        env_info = env.step(actions)[brain_name]           # send all actions to tne environment\n",
    "        next_states = env_info.vector_observations         # get next state (for each agent)\n",
    "        rewards = env_info.rewards                         # get reward (for each agent)\n",
    "        dones = env_info.local_done                        # see if episode finished\n",
    "        scores += env_info.rewards                         # update the score (for each agent)\n",
    "        states = next_states                               # roll over states to next time step\n",
    "        if np.any(dones):                                  # exit loop if episode finished\n",
    "            break\n",
    "    print('Score (max over agents) from episode {}: {}'.format(i, np.max(scores)))"
   ]
  },
  {
   "cell_type": "code",
   "execution_count": 5,
   "metadata": {},
   "outputs": [],
   "source": [
    "import logging\n",
    "from collections import deque\n",
    "import matplotlib.pyplot as plt\n",
    "from ddpg_agent import Agent\n",
    "\n",
    "import torch\n",
    "import time\n",
    "import random\n",
    "import utils\n",
    "from utils import Params\n",
    "from utils import set_logger\n",
    "\n",
    "%matplotlib inline"
   ]
  },
  {
   "cell_type": "code",
   "execution_count": 6,
   "metadata": {},
   "outputs": [],
   "source": [
    "def ddpg(agent, params, train_mode=True):\n",
    "    n_episodes = params.train_episodes if train_mode else params.test_episodes\n",
    "    max_step = params.t_max\n",
    "    scores_window = deque(maxlen=100)\n",
    "    scores_all = []\n",
    "    add_noise = train_mode\n",
    "        \n",
    "    for i_episode in range(1, n_episodes+1):\n",
    "        begin = time.time()\n",
    "\n",
    "        env_info = env.reset(train_mode=train_mode)[brain_name]\n",
    "        states = env_info.vector_observations\n",
    "        scores = np.zeros(num_agents)\n",
    "        agent.reset()\n",
    "        \n",
    "        for t in range(max_step): \n",
    "            actions = agent.act(states, add_noise)\n",
    "            env_info = env.step(actions)[brain_name]\n",
    "            next_states = env_info.vector_observations \n",
    "            rewards = env_info.rewards\n",
    "            dones = env_info.local_done\n",
    "            if train_mode:\n",
    "                agent.step(states, actions, rewards, next_states, dones)\n",
    "\n",
    "            states = next_states\n",
    "            scores += rewards \n",
    "            if np.any(dones):\n",
    "                break\n",
    "\n",
    "        score = np.mean(scores)\n",
    "        scores_window.append(score)\n",
    "        score_average = np.mean(scores_window)\n",
    "        scores_all.append(score)\n",
    "   \n",
    "        if i_episode % 10 == 0:\n",
    "            print('\\rEpisode {} Average score: {:.2f} Min/Max: {:.2f}/{:.2f} Time: {:.2f} - {}.{} - {}'\n",
    "                .format(i_episode, score_average, np.min(scores_all), np.max(scores_all), time.time() - begin,\n",
    "                        agent.batch_size, len(agent.memory), add_noise ))        \n",
    "\n",
    "        if score_average > params.target_score * 0.75:\n",
    "            add_noise = False \n",
    "                  \n",
    "                    \n",
    "        if score_average >= params.target_score:\n",
    "            torch.save(agent.actor_local.state_dict(), 'checkpoint_actor.pth')\n",
    "            torch.save(agent.critic_local.state_dict(), 'checkpoint_critic.pth')\n",
    "            print('\\nSolve in {:d} episodes. Average score: {:.2f}'.format(i_episode, score_average))            \n",
    "            break            \n",
    "            \n",
    "    return scores_all"
   ]
  },
  {
   "cell_type": "code",
   "execution_count": 7,
   "metadata": {},
   "outputs": [],
   "source": [
    "def plot(scores):\n",
    "    # plot the scores.\n",
    "\n",
    "    fig = plt.figure()\n",
    "    ax = fig.add_subplot(111)\n",
    "    plt.plot(np.arange(len(scores)), scores)\n",
    "    plt.ylabel('Score')\n",
    "    plt.xlabel('Episode #')\n",
    "    plt.title(\"Ave mean scores\")\n",
    "    plt.savefig(\"chart.png\", format=\"png\")\n",
    "\n",
    "    plt.show()\n",
    "\n",
    "def list_params(params, json_path):\n",
    "\n",
    "    print(\"\\rUsing hyperparameters from {}\".format(json_path))\n",
    "    for keys,values in params.__dict__.items():\n",
    "        print('\\r\\t {}\\t: {}'.format(keys, values))\n",
    "        "
   ]
  },
  {
   "cell_type": "code",
   "execution_count": 8,
   "metadata": {},
   "outputs": [
    {
     "name": "stdout",
     "output_type": "stream",
     "text": [
      "Using hyperparameters from params.json\n",
      "\t experiment_name\t: Tennis\n",
      "\t model_type\t: DDPG\n",
      "\t num_agents\t: 2\n",
      "\t buffer_size\t: 1000000.0\n",
      "\t batch_size\t: 256\n",
      "\t gamma\t: 0.99\n",
      "\t time_steps\t: 10\n",
      "\t learn_updates\t: 10\n",
      "\t target_tau\t: 0.001\n",
      "\t lr_actor\t: 0.0002\n",
      "\t lr_critic\t: 0.0002\n",
      "\t weight_decay\t: 0.0\n",
      "\t dropout\t: 0.2\n",
      "\t mean_windowsize\t: 100\n",
      "\t t_max\t: 1000\n",
      "\t target_score\t: 0.5\n",
      "\t train_episodes\t: 2500\n",
      "\t test_episodes\t: 100\n",
      "Episode 10 Average score: 0.01 Min/Max: -0.00/0.05 Time: 0.36 - 256.342 - True\n",
      "Episode 20 Average score: 0.00 Min/Max: -0.00/0.05 Time: 0.27 - 256.626 - True\n",
      "Episode 30 Average score: 0.00 Min/Max: -0.00/0.05 Time: 0.33 - 256.980 - True\n",
      "Episode 40 Average score: 0.00 Min/Max: -0.00/0.05 Time: 0.24 - 256.1300 - True\n",
      "Episode 50 Average score: -0.00 Min/Max: -0.00/0.05 Time: 0.27 - 256.1620 - True\n",
      "Episode 60 Average score: -0.00 Min/Max: -0.00/0.05 Time: 0.25 - 256.1900 - True\n",
      "Episode 70 Average score: -0.00 Min/Max: -0.00/0.05 Time: 0.26 - 256.2184 - True\n",
      "Episode 80 Average score: -0.00 Min/Max: -0.00/0.05 Time: 0.25 - 256.2468 - True\n",
      "Episode 90 Average score: -0.00 Min/Max: -0.00/0.05 Time: 0.55 - 256.2820 - True\n",
      "Episode 100 Average score: -0.00 Min/Max: -0.00/0.10 Time: 0.25 - 256.3210 - True\n",
      "Episode 110 Average score: 0.00 Min/Max: -0.00/0.15 Time: 1.47 - 256.3684 - True\n",
      "Episode 120 Average score: 0.00 Min/Max: -0.00/0.15 Time: 0.27 - 256.4034 - True\n",
      "Episode 130 Average score: 0.00 Min/Max: -0.00/0.15 Time: 0.55 - 256.4562 - True\n",
      "Episode 140 Average score: 0.01 Min/Max: -0.00/0.15 Time: 0.57 - 256.4980 - True\n",
      "Episode 150 Average score: 0.01 Min/Max: -0.00/0.15 Time: 0.26 - 512.5366 - True\n",
      "Episode 160 Average score: 0.01 Min/Max: -0.00/0.15 Time: 0.25 - 512.5650 - True\n",
      "Episode 170 Average score: 0.01 Min/Max: -0.00/0.15 Time: 0.25 - 512.6036 - True\n",
      "Episode 180 Average score: 0.01 Min/Max: -0.00/0.15 Time: 0.30 - 512.6374 - True\n",
      "Episode 190 Average score: 0.01 Min/Max: -0.00/0.15 Time: 0.30 - 512.6726 - True\n",
      "Episode 200 Average score: 0.01 Min/Max: -0.00/0.15 Time: 0.28 - 512.7006 - True\n",
      "Episode 210 Average score: 0.01 Min/Max: -0.00/0.15 Time: 0.33 - 512.7390 - True\n",
      "Episode 220 Average score: 0.01 Min/Max: -0.00/0.15 Time: 0.31 - 512.7702 - True\n",
      "Episode 230 Average score: 0.01 Min/Max: -0.00/0.15 Time: 0.32 - 512.8108 - True\n",
      "Episode 240 Average score: 0.00 Min/Max: -0.00/0.15 Time: 0.30 - 512.8424 - True\n",
      "Episode 250 Average score: 0.00 Min/Max: -0.00/0.15 Time: 0.33 - 512.8802 - True\n",
      "Episode 260 Average score: 0.00 Min/Max: -0.00/0.15 Time: 0.32 - 512.9120 - True\n",
      "Episode 270 Average score: 0.00 Min/Max: -0.00/0.15 Time: 0.32 - 512.9556 - True\n",
      "Episode 280 Average score: 0.01 Min/Max: -0.00/0.15 Time: 0.87 - 512.10006 - True\n",
      "Episode 290 Average score: 0.01 Min/Max: -0.00/0.15 Time: 1.33 - 1024.10500 - True\n",
      "Episode 300 Average score: 0.01 Min/Max: -0.00/0.15 Time: 0.77 - 1024.11016 - True\n",
      "Episode 310 Average score: 0.01 Min/Max: -0.00/0.15 Time: 0.35 - 1024.11518 - True\n",
      "Episode 320 Average score: 0.02 Min/Max: -0.00/0.15 Time: 1.29 - 1024.12054 - True\n",
      "Episode 330 Average score: 0.01 Min/Max: -0.00/0.15 Time: 0.32 - 1024.12412 - True\n",
      "Episode 340 Average score: 0.02 Min/Max: -0.00/0.20 Time: 2.21 - 1024.12848 - True\n",
      "Episode 350 Average score: 0.02 Min/Max: -0.00/0.20 Time: 0.34 - 1024.13192 - True\n",
      "Episode 360 Average score: 0.02 Min/Max: -0.00/0.20 Time: 0.32 - 1024.13522 - True\n",
      "Episode 370 Average score: 0.01 Min/Max: -0.00/0.20 Time: 0.32 - 1024.13840 - True\n",
      "Episode 380 Average score: 0.01 Min/Max: -0.00/0.20 Time: 0.35 - 1024.14202 - True\n",
      "Episode 390 Average score: 0.01 Min/Max: -0.00/0.20 Time: 0.32 - 1024.14598 - True\n",
      "Episode 400 Average score: 0.01 Min/Max: -0.00/0.20 Time: 0.31 - 1024.14882 - True\n",
      "Episode 410 Average score: 0.01 Min/Max: -0.00/0.20 Time: 0.37 - 1024.15168 - True\n",
      "Episode 420 Average score: 0.00 Min/Max: -0.00/0.20 Time: 0.37 - 1024.15450 - True\n",
      "Episode 430 Average score: 0.00 Min/Max: -0.00/0.20 Time: 0.31 - 1024.15734 - True\n",
      "Episode 440 Average score: -0.00 Min/Max: -0.00/0.20 Time: 0.31 - 1024.16018 - True\n",
      "Episode 450 Average score: -0.00 Min/Max: -0.00/0.20 Time: 0.29 - 1024.16336 - True\n",
      "Episode 460 Average score: -0.00 Min/Max: -0.00/0.20 Time: 0.29 - 1024.16620 - True\n",
      "Episode 470 Average score: -0.00 Min/Max: -0.00/0.20 Time: 0.29 - 1024.16908 - True\n",
      "Episode 480 Average score: -0.00 Min/Max: -0.00/0.20 Time: 0.29 - 1024.17194 - True\n",
      "Episode 490 Average score: -0.00 Min/Max: -0.00/0.20 Time: 0.28 - 1024.17524 - True\n",
      "Episode 500 Average score: -0.00 Min/Max: -0.00/0.20 Time: 0.29 - 1024.17806 - True\n",
      "Episode 510 Average score: -0.00 Min/Max: -0.00/0.20 Time: 0.33 - 1024.18090 - True\n",
      "Episode 520 Average score: -0.00 Min/Max: -0.00/0.20 Time: 0.28 - 1024.18374 - True\n",
      "Episode 530 Average score: -0.00 Min/Max: -0.00/0.20 Time: 0.28 - 1024.18658 - True\n",
      "Episode 540 Average score: -0.00 Min/Max: -0.00/0.20 Time: 0.29 - 1024.18982 - True\n",
      "Episode 550 Average score: -0.00 Min/Max: -0.00/0.20 Time: 0.43 - 1024.19336 - True\n",
      "Episode 560 Average score: -0.00 Min/Max: -0.00/0.20 Time: 0.38 - 1024.19620 - True\n",
      "Episode 570 Average score: -0.00 Min/Max: -0.00/0.20 Time: 0.29 - 1024.19978 - True\n",
      "Episode 580 Average score: -0.00 Min/Max: -0.00/0.20 Time: 0.29 - 1024.20292 - True\n",
      "Episode 590 Average score: -0.00 Min/Max: -0.00/0.20 Time: 0.28 - 1024.20606 - True\n",
      "Episode 600 Average score: 0.00 Min/Max: -0.00/0.20 Time: 0.30 - 1024.21040 - True\n",
      "Episode 610 Average score: 0.00 Min/Max: -0.00/0.20 Time: 0.35 - 1024.21324 - True\n",
      "Episode 620 Average score: 0.00 Min/Max: -0.00/0.20 Time: 0.33 - 1024.21608 - True\n",
      "Episode 630 Average score: 0.00 Min/Max: -0.00/0.20 Time: 0.35 - 1024.21892 - True\n",
      "Episode 640 Average score: -0.00 Min/Max: -0.00/0.20 Time: 0.31 - 1024.22178 - True\n",
      "Episode 650 Average score: -0.00 Min/Max: -0.00/0.20 Time: 0.30 - 1024.22462 - True\n",
      "Episode 660 Average score: -0.00 Min/Max: -0.00/0.20 Time: 0.28 - 1024.22772 - True\n",
      "Episode 670 Average score: -0.00 Min/Max: -0.00/0.20 Time: 0.33 - 1024.23056 - True\n",
      "Episode 680 Average score: -0.00 Min/Max: -0.00/0.20 Time: 0.28 - 1024.23340 - True\n",
      "Episode 690 Average score: -0.00 Min/Max: -0.00/0.20 Time: 0.29 - 1024.23622 - True\n",
      "Episode 700 Average score: -0.00 Min/Max: -0.00/0.20 Time: 0.27 - 1024.23904 - True\n",
      "Episode 710 Average score: -0.00 Min/Max: -0.00/0.20 Time: 0.32 - 1024.24218 - True\n",
      "Episode 720 Average score: -0.00 Min/Max: -0.00/0.20 Time: 0.32 - 1024.24502 - True\n",
      "Episode 730 Average score: -0.00 Min/Max: -0.00/0.20 Time: 0.31 - 1024.24814 - True\n",
      "Episode 740 Average score: -0.00 Min/Max: -0.00/0.20 Time: 0.30 - 1024.25098 - True\n",
      "Episode 750 Average score: -0.00 Min/Max: -0.00/0.20 Time: 0.32 - 1024.25416 - True\n",
      "Episode 760 Average score: -0.00 Min/Max: -0.00/0.20 Time: 0.34 - 1024.25756 - True\n",
      "Episode 770 Average score: -0.00 Min/Max: -0.00/0.20 Time: 0.30 - 1024.26104 - True\n",
      "Episode 780 Average score: 0.00 Min/Max: -0.00/0.20 Time: 0.29 - 1024.26548 - True\n",
      "Episode 790 Average score: 0.00 Min/Max: -0.00/0.20 Time: 0.58 - 1024.26990 - True\n",
      "Episode 800 Average score: 0.01 Min/Max: -0.00/0.20 Time: 0.31 - 1024.27406 - True\n",
      "Episode 810 Average score: 0.01 Min/Max: -0.00/0.20 Time: 0.31 - 1024.27814 - True\n",
      "Episode 820 Average score: 0.01 Min/Max: -0.00/0.20 Time: 0.74 - 1024.28194 - True\n",
      "Episode 830 Average score: 0.01 Min/Max: -0.00/0.20 Time: 0.69 - 1024.28722 - True\n",
      "Episode 840 Average score: 0.01 Min/Max: -0.00/0.20 Time: 0.35 - 1024.29268 - True\n",
      "Episode 850 Average score: 0.02 Min/Max: -0.00/0.20 Time: 0.66 - 1024.29758 - True\n",
      "Episode 860 Average score: 0.02 Min/Max: -0.00/0.20 Time: 1.33 - 1024.30470 - True\n",
      "Episode 870 Average score: 0.03 Min/Max: -0.00/0.20 Time: 0.65 - 1024.31124 - True\n",
      "Episode 880 Average score: 0.03 Min/Max: -0.00/0.20 Time: 1.06 - 1024.31756 - True\n",
      "Episode 890 Average score: 0.03 Min/Max: -0.00/0.20 Time: 0.66 - 1024.32616 - True\n",
      "Episode 900 Average score: 0.04 Min/Max: -0.00/0.20 Time: 0.76 - 1024.33334 - True\n",
      "Episode 910 Average score: 0.04 Min/Max: -0.00/0.20 Time: 1.18 - 1024.34030 - True\n",
      "Episode 920 Average score: 0.05 Min/Max: -0.00/0.25 Time: 1.33 - 1024.34998 - True\n",
      "Episode 930 Average score: 0.06 Min/Max: -0.00/0.25 Time: 0.60 - 1024.36126 - True\n",
      "Episode 940 Average score: 0.09 Min/Max: -0.00/0.90 Time: 6.47 - 1024.39264 - True\n",
      "Episode 950 Average score: 0.09 Min/Max: -0.00/0.90 Time: 0.64 - 1024.39812 - True\n"
     ]
    },
    {
     "name": "stdout",
     "output_type": "stream",
     "text": [
      "Episode 960 Average score: 0.11 Min/Max: -0.00/1.50 Time: 0.27 - 1024.41694 - True\n",
      "Episode 970 Average score: 0.11 Min/Max: -0.00/1.50 Time: 1.08 - 1024.42308 - True\n",
      "Episode 980 Average score: 0.12 Min/Max: -0.00/1.50 Time: 3.28 - 1024.43702 - True\n",
      "Episode 990 Average score: 0.14 Min/Max: -0.00/1.50 Time: 7.19 - 1024.46102 - True\n",
      "Episode 1000 Average score: 0.17 Min/Max: -0.00/1.50 Time: 3.09 - 1024.49030 - True\n",
      "Episode 1010 Average score: 0.18 Min/Max: -0.00/1.50 Time: 1.46 - 1024.50804 - True\n",
      "Episode 1020 Average score: 0.21 Min/Max: -0.00/1.50 Time: 1.18 - 1024.54144 - True\n",
      "Episode 1030 Average score: 0.22 Min/Max: -0.00/1.50 Time: 2.40 - 1024.55642 - True\n",
      "Episode 1040 Average score: 0.21 Min/Max: -0.00/2.05 Time: 3.90 - 1024.58522 - True\n",
      "Episode 1050 Average score: 0.25 Min/Max: -0.00/2.05 Time: 1.33 - 1024.62000 - True\n",
      "Episode 1060 Average score: 0.28 Min/Max: -0.00/2.05 Time: 4.86 - 1024.66066 - True\n",
      "Episode 1070 Average score: 0.39 Min/Max: -0.00/2.60 Time: 11.00 - 1024.74964 - True\n",
      "\n",
      "Solve in 1076 episodes. Average score: 0.52\n"
     ]
    }
   ],
   "source": [
    "rand_seed = 0\n",
    "params = Params(\"params.json\")\n",
    "list_params(params, \"params.json\")\n",
    "\n",
    "agent = Agent(state_size=state_size, \n",
    "              action_size=action_size,\n",
    "              random_seed=rand_seed,\n",
    "              params=params)\n",
    "\n",
    "scores = ddpg(agent, params)\n"
   ]
  },
  {
   "cell_type": "code",
   "execution_count": 9,
   "metadata": {},
   "outputs": [
    {
     "data": {
      "image/png": "[encoded data removed]",
      "text/plain": [
       "<Figure size 432x288 with 1 Axes>"
      ]
     },
     "metadata": {
      "needs_background": "light"
     },
     "output_type": "display_data"
    }
   ],
   "source": [
    "plot(scores)"
   ]
  },
  {
   "cell_type": "code",
   "execution_count": null,
   "metadata": {},
   "outputs": [],
   "source": [
    "rand_seed = 0\n",
    "params = Params(\"params.json\")\n",
    "list_params(params, \"params.json\")\n",
    "\n",
    "agent = Agent(state_size=state_size, \n",
    "              action_size=action_size, \n",
    "              random_seed=rand_seed,\n",
    "              params=params,\n",
    "              actor_trained_weight_filename=\"checkpoint_actor.pth\", \n",
    "              critic_trained_weight_filename=\"checkpoint_critic.pth\")\n",
    "\n",
    "scores = ddpg(agent, params, train_mode=False)"
   ]
  },
  {
   "cell_type": "code",
   "execution_count": null,
   "metadata": {},
   "outputs": [],
   "source": [
    "plot(scores)"
   ]
  },
  {
   "cell_type": "markdown",
   "metadata": {},
   "source": [
    "When finished, you can close the environment."
   ]
  },
  {
   "cell_type": "code",
   "execution_count": null,
   "metadata": {},
   "outputs": [],
   "source": [
    "env.close()"
   ]
  },
  {
   "cell_type": "markdown",
   "metadata": {},
   "source": [
    "### 4. It's Your Turn!\n",
    "\n",
    "Now it's your turn to train your own agent to solve the environment!  When training the environment, set `train_mode=True`, so that the line for resetting the environment looks like the following:\n",
    "```python\n",
    "env_info = env.reset(train_mode=True)[brain_name]\n",
    "```"
   ]
  }
 ],
 "metadata": {
  "kernelspec": {
   "display_name": "drlnd",
   "language": "python",
   "name": "drlnd"
  },
  "language_info": {
   "codemirror_mode": {
    "name": "ipython",
    "version": 3
   },
   "file_extension": ".py",
   "mimetype": "text/x-python",
   "name": "python",
   "nbconvert_exporter": "python",
   "pygments_lexer": "ipython3",
   "version": "3.6.8"
  }
 },
 "nbformat": 4,
 "nbformat_minor": 2
}
