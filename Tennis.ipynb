{
 "cells": [
  {
   "cell_type": "markdown",
   "metadata": {},
   "source": [
    "# Collaboration and Competition\n",
    "\n",
    "---\n",
    "\n",
    "In this notebook, you will learn how to use the Unity ML-Agents environment for the third project of the [Deep Reinforcement Learning Nanodegree](https://www.udacity.com/course/deep-reinforcement-learning-nanodegree--nd893) program.\n",
    "\n",
    "### 1. Start the Environment\n",
    "\n",
    "We begin by importing the necessary packages.  If the code cell below returns an error, please revisit the project instructions to double-check that you have installed [Unity ML-Agents](https://github.com/Unity-Technologies/ml-agents/blob/master/docs/Installation.md) and [NumPy](http://www.numpy.org/)."
   ]
  },
  {
   "cell_type": "code",
   "execution_count": 1,
   "metadata": {},
   "outputs": [],
   "source": [
    "from unityagents import UnityEnvironment\n",
    "import numpy as np"
   ]
  },
  {
   "cell_type": "markdown",
   "metadata": {},
   "source": [
    "Next, we will start the environment!  **_Before running the code cell below_**, change the `file_name` parameter to match the location of the Unity environment that you downloaded.\n",
    "\n",
    "- **Mac**: `\"path/to/Tennis.app\"`\n",
    "- **Windows** (x86): `\"path/to/Tennis_Windows_x86/Tennis.exe\"`\n",
    "- **Windows** (x86_64): `\"path/to/Tennis_Windows_x86_64/Tennis.exe\"`\n",
    "- **Linux** (x86): `\"path/to/Tennis_Linux/Tennis.x86\"`\n",
    "- **Linux** (x86_64): `\"path/to/Tennis_Linux/Tennis.x86_64\"`\n",
    "- **Linux** (x86, headless): `\"path/to/Tennis_Linux_NoVis/Tennis.x86\"`\n",
    "- **Linux** (x86_64, headless): `\"path/to/Tennis_Linux_NoVis/Tennis.x86_64\"`\n",
    "\n",
    "For instance, if you are using a Mac, then you downloaded `Tennis.app`.  If this file is in the same folder as the notebook, then the line below should appear as follows:\n",
    "```\n",
    "env = UnityEnvironment(file_name=\"Tennis.app\")\n",
    "```"
   ]
  },
  {
   "cell_type": "code",
   "execution_count": 2,
   "metadata": {},
   "outputs": [
    {
     "name": "stderr",
     "output_type": "stream",
     "text": [
      "INFO:unityagents:\n",
      "'Academy' started successfully!\n",
      "Unity Academy name: Academy\n",
      "        Number of Brains: 1\n",
      "        Number of External Brains : 1\n",
      "        Lesson number : 0\n",
      "        Reset Parameters :\n",
      "\t\t\n",
      "Unity brain name: TennisBrain\n",
      "        Number of Visual Observations (per agent): 0\n",
      "        Vector Observation space type: continuous\n",
      "        Vector Observation space size (per agent): 8\n",
      "        Number of stacked Vector Observation: 3\n",
      "        Vector Action space type: continuous\n",
      "        Vector Action space size (per agent): 2\n",
      "        Vector Action descriptions: , \n"
     ]
    }
   ],
   "source": [
    "env = UnityEnvironment(file_name=\"./Tennis_Windows_x86_64/Tennis.exe\")"
   ]
  },
  {
   "cell_type": "markdown",
   "metadata": {},
   "source": [
    "Environments contain **_brains_** which are responsible for deciding the actions of their associated agents. Here we check for the first brain available, and set it as the default brain we will be controlling from Python."
   ]
  },
  {
   "cell_type": "code",
   "execution_count": 4,
   "metadata": {},
   "outputs": [],
   "source": [
    "# get the default brain\n",
    "brain_name = env.brain_names[0]\n",
    "brain = env.brains[brain_name]"
   ]
  },
  {
   "cell_type": "markdown",
   "metadata": {},
   "source": [
    "### 2. Examine the State and Action Spaces\n",
    "\n",
    "In this environment, two agents control rackets to bounce a ball over a net. If an agent hits the ball over the net, it receives a reward of +0.1.  If an agent lets a ball hit the ground or hits the ball out of bounds, it receives a reward of -0.01.  Thus, the goal of each agent is to keep the ball in play.\n",
    "\n",
    "The observation space consists of 8 variables corresponding to the position and velocity of the ball and racket. Two continuous actions are available, corresponding to movement toward (or away from) the net, and jumping. \n",
    "\n",
    "Run the code cell below to print some information about the environment."
   ]
  },
  {
   "cell_type": "code",
   "execution_count": 5,
   "metadata": {},
   "outputs": [
    {
     "name": "stdout",
     "output_type": "stream",
     "text": [
      "Number of agents: 2\n",
      "Size of each action: 2\n",
      "There are 2 agents. Each observes a state with length: 24\n",
      "The state for the first agent looks like: [ 0.          0.          0.          0.          0.          0.\n",
      "  0.          0.          0.          0.          0.          0.\n",
      "  0.          0.          0.          0.         -6.65278625 -1.5\n",
      " -0.          0.          6.83172083  6.         -0.          0.        ]\n"
     ]
    }
   ],
   "source": [
    "# reset the environment\n",
    "env_info = env.reset(train_mode=True)[brain_name]\n",
    "\n",
    "# number of agents \n",
    "num_agents = len(env_info.agents)\n",
    "print('Number of agents:', num_agents)\n",
    "\n",
    "# size of each action\n",
    "action_size = brain.vector_action_space_size\n",
    "print('Size of each action:', action_size)\n",
    "\n",
    "# examine the state space \n",
    "states = env_info.vector_observations\n",
    "state_size = states.shape[1]\n",
    "print('There are {} agents. Each observes a state with length: {}'.format(states.shape[0], state_size))\n",
    "print('The state for the first agent looks like:', states[0])"
   ]
  },
  {
   "cell_type": "markdown",
   "metadata": {},
   "source": [
    "### 3. Take Random Actions in the Environment\n",
    "\n",
    "In the next code cell, you will learn how to use the Python API to control the agents and receive feedback from the environment.\n",
    "\n",
    "Once this cell is executed, you will watch the agents' performance, if they select actions at random with each time step.  A window should pop up that allows you to observe the agents.\n",
    "\n",
    "Of course, as part of the project, you'll have to change the code so that the agents are able to use their experiences to gradually choose better actions when interacting with the environment!"
   ]
  },
  {
   "cell_type": "code",
   "execution_count": null,
   "metadata": {},
   "outputs": [],
   "source": [
    "for i in range(1, 6):                                      # play game for 5 episodes\n",
    "    env_info = env.reset(train_mode=False)[brain_name]     # reset the environment    \n",
    "    states = env_info.vector_observations                  # get the current state (for each agent)\n",
    "    scores = np.zeros(num_agents)                          # initialize the score (for each agent)\n",
    "    while True:\n",
    "        actions = np.random.randn(num_agents, action_size) # select an action (for each agent)\n",
    "        actions = np.clip(actions, -1, 1)                  # all actions between -1 and 1\n",
    "        env_info = env.step(actions)[brain_name]           # send all actions to tne environment\n",
    "        next_states = env_info.vector_observations         # get next state (for each agent)\n",
    "        rewards = env_info.rewards                         # get reward (for each agent)\n",
    "        dones = env_info.local_done                        # see if episode finished\n",
    "        scores += env_info.rewards                         # update the score (for each agent)\n",
    "        states = next_states                               # roll over states to next time step\n",
    "        if np.any(dones):                                  # exit loop if episode finished\n",
    "            break\n",
    "    print('Score (max over agents) from episode {}: {}'.format(i, np.max(scores)))"
   ]
  },
  {
   "cell_type": "code",
   "execution_count": 6,
   "metadata": {},
   "outputs": [],
   "source": [
    "import os\n",
    "import sys\n",
    "import argparse\n",
    "import logging\n",
    "from collections import deque\n",
    "import matplotlib.pyplot as plt\n",
    "from ddpg_agent import Agent\n",
    "from workspace_utils import active_session\n",
    "import torch\n",
    "import time\n",
    "import random\n",
    "import utils\n",
    "from utils import Params\n",
    "from utils import set_logger\n",
    "\n",
    "%matplotlib inline"
   ]
  },
  {
   "cell_type": "code",
   "execution_count": 10,
   "metadata": {},
   "outputs": [],
   "source": [
    "def ddpg(agent, params, train_mode=True):\n",
    "    n_episodes = params.train_episodes if train_mode else params.test_episodes\n",
    "    max_step = params.t_max\n",
    "    scores_window = deque(maxlen=100)\n",
    "    scores_all = []\n",
    "    add_noise = True\n",
    "        \n",
    "    for i_episode in range(1, n_episodes+1):\n",
    "        begin = time.time()\n",
    "\n",
    "        env_info = env.reset(train_mode=train_mode)[brain_name]\n",
    "        states = env_info.vector_observations\n",
    "        scores = np.zeros(num_agents)\n",
    "        agent.reset()\n",
    "        \n",
    "        for t in range(max_step): \n",
    "            actions = agent.act(states, add_noise)\n",
    "            env_info = env.step(actions)[brain_name]\n",
    "            next_states = env_info.vector_observations \n",
    "            rewards = env_info.rewards\n",
    "            dones = env_info.local_done\n",
    "            if train_mode:\n",
    "                agent.step(states, actions, rewards, next_states, dones)\n",
    "\n",
    "            states = next_states\n",
    "            scores += rewards \n",
    "            if np.any(dones):\n",
    "                break\n",
    "\n",
    "        score = np.mean(scores)\n",
    "        scores_window.append(score)\n",
    "        score_average = np.mean(scores_window)\n",
    "        scores_all.append(score)\n",
    "   \n",
    "        if i_episode % 50 == 0:\n",
    "            print('\\rEpisode {} Average score: {:.2f} Min/Max: {:.2f}/{:.2f} Time: {:.2f} - {}.{} - {}'\n",
    "                .format(i_episode, score_average, np.min(scores_all), np.max(scores_all), time.time() - begin,\n",
    "                        agent.batch_size, len(agent.memory), add_noise ))        \n",
    "\n",
    "        if score_average > params.target_score * 0.75:\n",
    "            add_noise = False \n",
    "                  \n",
    "                    \n",
    "        if score_average >= params.target_score:\n",
    "            torch.save(agent.actor_local.state_dict(), 'checkpoint_actor.pth')\n",
    "            torch.save(agent.critic_local.state_dict(), 'checkpoint_critic.pth')\n",
    "            print('\\nSolve in {:d} episodes. Average score: {:.2f}'.format(i_episode, score_average))            \n",
    "            break            \n",
    "            \n",
    "    return scores_all"
   ]
  },
  {
   "cell_type": "code",
   "execution_count": 8,
   "metadata": {},
   "outputs": [],
   "source": [
    "def plot(scores):\n",
    "    # plot the scores.\n",
    "\n",
    "    fig = plt.figure()\n",
    "    ax = fig.add_subplot(111)\n",
    "    plt.plot(np.arange(len(scores)), scores)\n",
    "    plt.ylabel('Score')\n",
    "    plt.xlabel('Episode #')\n",
    "    plt.title(\"Ave mean scores\")\n",
    "    plt.savefig(\"chart.png\", format=\"png\")\n",
    "\n",
    "    plt.show()\n",
    "\n",
    "def list_params(params, json_path):\n",
    "\n",
    "    print(\"\\rUsing hyperparameters from {}\".format(json_path))\n",
    "    for keys,values in params.__dict__.items():\n",
    "        print('\\r\\t {}\\t: {}'.format(keys, values))\n",
    "        "
   ]
  },
  {
   "cell_type": "code",
   "execution_count": null,
   "metadata": {},
   "outputs": [
    {
     "name": "stdout",
     "output_type": "stream",
     "text": [
      "Using hyperparameters from params.json\n",
      "\t experiment_name\t: Tennis\n",
      "\t model_type\t: DDPG\n",
      "\t num_agents\t: 2\n",
      "\t buffer_size\t: 1000000.0\n",
      "\t batch_size\t: 1024\n",
      "\t gamma\t: 0.99\n",
      "\t time_steps\t: 10\n",
      "\t learn_updates\t: 10\n",
      "\t target_tau\t: 0.001\n",
      "\t lr_actor\t: 0.0002\n",
      "\t lr_critic\t: 0.0002\n",
      "\t weight_decay\t: 0.0\n",
      "\t dropout\t: 0.2\n",
      "\t mean_windowsize\t: 100\n",
      "\t t_max\t: 1000\n",
      "\t target_score\t: 0.5\n",
      "\t train_episodes\t: 2500\n",
      "\t test_episodes\t: 100\n",
      "Episode 50 Average score: 0.00 Min/Max: -0.00/0.05 Time: 0.40 - 1024.1732 - True\n",
      "Episode 100 Average score: 0.00 Min/Max: -0.00/0.15 Time: 0.48 - 1024.3458 - True\n",
      "Episode 150 Average score: 0.01 Min/Max: -0.00/0.15 Time: 0.43 - 1024.5464 - True\n",
      "Episode 200 Average score: 0.02 Min/Max: -0.00/0.15 Time: 0.46 - 1024.7640 - True\n",
      "Episode 250 Average score: 0.02 Min/Max: -0.00/0.15 Time: 0.46 - 1024.9716 - True\n",
      "Episode 300 Average score: 0.01 Min/Max: -0.00/0.15 Time: 0.49 - 1024.11728 - True\n",
      "Episode 350 Average score: 0.01 Min/Max: -0.00/0.15 Time: 0.44 - 1024.13792 - True\n",
      "Episode 400 Average score: 0.01 Min/Max: -0.00/0.15 Time: 0.60 - 1024.15834 - True\n",
      "Episode 450 Average score: 0.01 Min/Max: -0.00/0.15 Time: 0.42 - 1024.17574 - True\n",
      "Episode 500 Average score: 0.00 Min/Max: -0.00/0.15 Time: 0.45 - 1024.19114 - True\n",
      "Episode 550 Average score: -0.00 Min/Max: -0.00/0.15 Time: 1.01 - 1024.20674 - True\n",
      "Episode 600 Average score: 0.00 Min/Max: -0.00/0.15 Time: 0.92 - 1024.22426 - True\n",
      "Episode 650 Average score: 0.01 Min/Max: -0.00/0.15 Time: 0.46 - 1024.24548 - True\n",
      "Episode 700 Average score: 0.02 Min/Max: -0.00/0.15 Time: 0.42 - 1024.26872 - True\n",
      "Episode 750 Average score: 0.03 Min/Max: -0.00/0.15 Time: 0.94 - 1024.29600 - True\n",
      "Episode 800 Average score: 0.03 Min/Max: -0.00/0.15 Time: 1.19 - 1024.32404 - True\n",
      "Episode 850 Average score: 0.04 Min/Max: -0.00/0.15 Time: 0.63 - 1024.35596 - True\n"
     ]
    }
   ],
   "source": [
    "rand_seed = 0\n",
    "params = Params(\"params.json\")\n",
    "list_params(params, \"params.json\")\n",
    "\n",
    "agent = Agent(state_size=state_size, \n",
    "              action_size=action_size,\n",
    "              random_seed=rand_seed,\n",
    "              params=params)\n",
    "\n",
    "scores = ddpg(agent, params)\n"
   ]
  },
  {
   "cell_type": "code",
   "execution_count": null,
   "metadata": {},
   "outputs": [],
   "source": [
    "plot(scores)"
   ]
  },
  {
   "cell_type": "code",
   "execution_count": null,
   "metadata": {},
   "outputs": [],
   "source": [
    "rand_seed = 0\n",
    "params = Params(\"params.json\")\n",
    "list_params(params, \"params.json\")\n",
    "\n",
    "agent = Agent(state_size=state_size, \n",
    "              action_size=action_size, \n",
    "              random_seed=rand_seed,\n",
    "              params=params,\n",
    "              actor_trained_weight_filename=\"checkpoint_actor.pth\", \n",
    "              critic_trained_weight_filename=\"checkpoint_critic.pth\")\n",
    "\n",
    "scores = ddpg(agent, params, train_mode=False)"
   ]
  },
  {
   "cell_type": "code",
   "execution_count": null,
   "metadata": {},
   "outputs": [],
   "source": [
    "plot(scores)"
   ]
  },
  {
   "cell_type": "markdown",
   "metadata": {},
   "source": [
    "When finished, you can close the environment."
   ]
  },
  {
   "cell_type": "code",
   "execution_count": null,
   "metadata": {},
   "outputs": [],
   "source": [
    "env.close()"
   ]
  },
  {
   "cell_type": "markdown",
   "metadata": {},
   "source": [
    "### 4. It's Your Turn!\n",
    "\n",
    "Now it's your turn to train your own agent to solve the environment!  When training the environment, set `train_mode=True`, so that the line for resetting the environment looks like the following:\n",
    "```python\n",
    "env_info = env.reset(train_mode=True)[brain_name]\n",
    "```"
   ]
  }
 ],
 "metadata": {
  "kernelspec": {
   "display_name": "drlnd",
   "language": "python",
   "name": "drlnd"
  },
  "language_info": {
   "codemirror_mode": {
    "name": "ipython",
    "version": 3
   },
   "file_extension": ".py",
   "mimetype": "text/x-python",
   "name": "python",
   "nbconvert_exporter": "python",
   "pygments_lexer": "ipython3",
   "version": "3.6.8"
  }
 },
 "nbformat": 4,
 "nbformat_minor": 2
}
